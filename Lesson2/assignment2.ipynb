{
  "nbformat": 4,
  "nbformat_minor": 0,
  "metadata": {
    "colab": {
      "provenance": []
    },
    "kernelspec": {
      "name": "python3",
      "display_name": "Python 3"
    },
    "language_info": {
      "name": "python"
    }
  },
  "cells": [
    {
      "cell_type": "markdown",
      "source": [
        "# Git and GitHub Assignment 2\n",
        "This notebook demonstrates basic Git operations."
      ],
      "metadata": {
        "id": "8MVpEV8D8lq8"
      }
    },
    {
      "cell_type": "code",
      "execution_count": 1,
      "metadata": {
        "id": "IUrfl4uiekZ2",
        "colab": {
          "base_uri": "https://localhost:8080/"
        },
        "outputId": "f05ca16a-f3a4-44b1-8ad4-cb22450061fb"
      },
      "outputs": [
        {
          "output_type": "stream",
          "name": "stdout",
          "text": [
            "12\n"
          ]
        }
      ],
      "source": [
        "def multiply_numbers(a, b):\n",
        "    return a * b\n",
        "print(multiply_numbers(3, 4))"
      ]
    }
  ]
}