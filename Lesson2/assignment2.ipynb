{
  "nbformat": 4,
  "nbformat_minor": 0,
  "metadata": {
    "colab": {
      "provenance": []
    },
    "kernelspec": {
      "name": "python3",
      "display_name": "Python 3"
    },
    "language_info": {
      "name": "python"
    }
  },
  "cells": [
    {
      "cell_type": "markdown",
      "source": [
        "# Git and GitHub Assignment 2\n",
        "This notebook demonstrates basic Git operations."
      ],
      "metadata": {
        "id": "8MVpEV8D8lq8"
      }
    },
    {
      "cell_type": "code",
      "execution_count": null,
      "metadata": {
        "id": "IUrfl4uiekZ2",
        "colab": {
          "base_uri": "https://localhost:8080/"
        },
        "outputId": "f05ca16a-f3a4-44b1-8ad4-cb22450061fb"
      },
      "outputs": [
        {
          "output_type": "stream",
          "name": "stdout",
          "text": [
            "12\n"
          ]
        }
      ],
      "source": [
        "def multiply_numbers(a, b):\n",
        "    return a * b\n",
        "print(multiply_numbers(3, 4))"
      ]
    },
    {
      "cell_type": "markdown",
      "source": [
        "Another Function for Division"
      ],
      "metadata": {
        "id": "dqQRMIgeKL1B"
      }
    },
    {
      "cell_type": "code",
      "source": [
        "def divide_numbers(a, b):\n",
        " if b != 0:\n",
        "        return a / b\n",
        " else:\n",
        "    return \"Cannot divide by zero\"\n",
        "print(divide_numbers(10, 2))"
      ],
      "metadata": {
        "id": "m3_loHqYKEqx",
        "outputId": "5b31a97f-5774-458d-e343-316c0bc8c010",
        "colab": {
          "base_uri": "https://localhost:8080/"
        }
      },
      "execution_count": 3,
      "outputs": [
        {
          "output_type": "stream",
          "name": "stdout",
          "text": [
            "5.0\n"
          ]
        }
      ]
    }
  ]
}