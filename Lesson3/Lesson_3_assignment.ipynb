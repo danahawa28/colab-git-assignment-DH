{
  "nbformat": 4,
  "nbformat_minor": 0,
  "metadata": {
    "colab": {
      "provenance": []
    },
    "kernelspec": {
      "name": "python3",
      "display_name": "Python 3"
    },
    "language_info": {
      "name": "python"
    }
  },
  "cells": [
    {
      "cell_type": "markdown",
      "source": [
        "#### **ATTENTION!!!**\n",
        "- **Place each section (1,2...) in one or more cells to keep the notebook organised**\n",
        "- **Complete the codes in the `TODO` sections**"
      ],
      "metadata": {
        "id": "kKCIlfklSrTw"
      }
    },
    {
      "cell_type": "code",
      "execution_count": 2,
      "metadata": {
        "id": "dnmV0gINSR23",
        "colab": {
          "base_uri": "https://localhost:8080/"
        },
        "outputId": "85383770-816e-4fdb-bef5-d1c0c5deaa8e"
      },
      "outputs": [
        {
          "output_type": "stream",
          "name": "stdout",
          "text": [
            "Requirement already satisfied: requests in /usr/local/lib/python3.11/dist-packages (2.32.3)\n",
            "Requirement already satisfied: charset-normalizer<4,>=2 in /usr/local/lib/python3.11/dist-packages (from requests) (3.4.2)\n",
            "Requirement already satisfied: idna<4,>=2.5 in /usr/local/lib/python3.11/dist-packages (from requests) (3.10)\n",
            "Requirement already satisfied: urllib3<3,>=1.21.1 in /usr/local/lib/python3.11/dist-packages (from requests) (2.4.0)\n",
            "Requirement already satisfied: certifi>=2017.4.17 in /usr/local/lib/python3.11/dist-packages (from requests) (2025.4.26)\n",
            "Book: Python Programming, Quantity: 5, Price: $29.99, Available: True\n",
            "Updated book list: ['Python Basics', 'Advanced Python', 'Data Science with Python']\n",
            "\n",
            "Available books:\n",
            "Enter a new book title: Machine Learning with Python\n",
            "Updated book list: ['Python Basics', 'Advanced Python', 'Data Science with Python', 'Machine Learning with Python']\n",
            "Is 'Python Basics' available? None\n",
            "Python Basics\n",
            "Advanced Python\n",
            "Data Science with Python\n",
            "Machine Learning with Python\n",
            "Top 5 Python repositories on GitHub: ['free-programming-books', 'public-apis', 'system-design-primer', 'awesome-python', 'Python']\n",
            "\n",
            "Library Management System operations completed.\n"
          ]
        }
      ],
      "source": [
        "# Python Library Management System\n",
        "\n",
        "# Install required libraries (This should already exist in colab)\n",
        "!pip install requests\n",
        "\n",
        "import pickle\n",
        "import sqlite3\n",
        "import requests\n",
        "\n",
        "# 1. Data Types and Variables\n",
        "book_title = \"Python Programming\"\n",
        "book_quantity = 5\n",
        "book_price = 29.99\n",
        "is_available = True\n",
        "\n",
        "print(f\"Book: {book_title}, Quantity: {book_quantity}, Price: ${book_price}, Available: {is_available}\")\n",
        "\n",
        "# 2. Lists\n",
        "books = [\"Python Basics\", \"Advanced Python\", \"Data Science with Python\"]\n",
        "\n",
        "# TODO: Add two more books to the list\n",
        "# books.append(...)\n",
        "# books.insert(...)\n",
        "\n",
        "print(\"Updated book list:\", books)\n",
        "\n",
        "# 3. Loops and range()\n",
        "print(\"\\nAvailable books:\")\n",
        "# TODO: Use a for loop and range() to print books with their indices\n",
        "# for ... in range(...):\n",
        "#     print(...)\n",
        "\n",
        "# 4. User Input\n",
        "new_book = input(\"Enter a new book title: \")\n",
        "books.append(new_book)\n",
        "print(\"Updated book list:\", books)\n",
        "\n",
        "# 5. Functions and Conditional Statements\n",
        "def check_availability(book_name):\n",
        "    # TODO: Check if the book is in the list and return True if available, False otherwise\n",
        "    # if ...:\n",
        "    #     return ...\n",
        "    # else:\n",
        "    #     return ...\n",
        "    pass\n",
        "\n",
        "# Test the function\n",
        "print(f\"Is 'Python Basics' available? {check_availability('Python Basics')}\")\n",
        "\n",
        "# 6. File I/O\n",
        "def save_books_to_file(filename):\n",
        "    with open(filename, 'w') as f:\n",
        "        for book in books:\n",
        "            f.write(f\"{book}\\n\")\n",
        "\n",
        "# TODO: Implement a function to read books from a file\n",
        "# def read_books_from_file(filename):\n",
        "#     ...\n",
        "\n",
        "# Test file I/O\n",
        "save_books_to_file(\"books.txt\")\n",
        "!cat books.txt  # Display file contents in Colab\n",
        "\n",
        "# 7. Pickle for serialization\n",
        "def save_books_pickle(filename):\n",
        "    with open(filename, 'wb') as f:\n",
        "        pickle.dump(books, f)\n",
        "\n",
        "# TODO: Implement a function to load books using pickle\n",
        "# def load_books_pickle(filename):\n",
        "#     ...\n",
        "\n",
        "# Test pickle functions\n",
        "save_books_pickle(\"books.pkl\")\n",
        "# Uncomment the next line after implementing load_books_pickle\n",
        "# print(\"Books loaded from pickle:\", load_books_pickle(\"books.pkl\"))\n",
        "\n",
        "# 8. SQLite Database Interaction\n",
        "def create_books_table():\n",
        "    conn = sqlite3.connect('library.db')\n",
        "    cursor = conn.cursor()\n",
        "    cursor.execute('''CREATE TABLE IF NOT EXISTS books\n",
        "                      (id INTEGER PRIMARY KEY, title TEXT, quantity INTEGER)''')\n",
        "    conn.commit()\n",
        "    conn.close()\n",
        "\n",
        "# TODO: Implement a function to add a book to the SQLite database\n",
        "# def add_book_to_db(title, quantity):\n",
        "#     ...\n",
        "\n",
        "# Test database functions\n",
        "create_books_table()\n",
        "# Uncomment the next line after implementing add_book_to_db\n",
        "# add_book_to_db(\"Python for Beginners\", 10)\n",
        "\n",
        "\n",
        "\n"
      ]
    },
    {
      "cell_type": "code",
      "source": [
        "# 9. Web API Interaction (GitHub API)\n",
        "def get_python_repos():\n",
        "    url = \"https://api.github.com/search/repositories\"\n",
        "    params = {\"q\": \"language:python\", \"sort\": \"stars\", \"order\": \"desc\"}\n",
        "    response = requests.get(url, params=params)\n",
        "    data = response.json()\n",
        "    return [repo['name'] for repo in data['items'][:5]]"
      ],
      "metadata": {
        "id": "-zBCvqii_gxF"
      },
      "execution_count": 13,
      "outputs": []
    },
    {
      "cell_type": "markdown",
      "source": [
        "Testing:"
      ],
      "metadata": {
        "id": "GS2yEgL6_o5t"
      }
    },
    {
      "cell_type": "code",
      "source": [
        "# Test API function\n",
        "print(\"Top 5 Python repositories on GitHub:\", get_python_repos())\n",
        "\n",
        "print(\"\\nLibrary Management System operations completed.\")"
      ],
      "metadata": {
        "id": "vWcKShoC_ycD",
        "outputId": "0e0cdd29-c174-451c-b78d-21d15608a06a",
        "colab": {
          "base_uri": "https://localhost:8080/"
        }
      },
      "execution_count": 14,
      "outputs": [
        {
          "output_type": "stream",
          "name": "stdout",
          "text": [
            "Top 5 Python repositories on GitHub: ['free-programming-books', 'public-apis', 'system-design-primer', 'awesome-python', 'Python']\n",
            "\n",
            "Library Management System operations completed.\n"
          ]
        }
      ]
    },
    {
      "cell_type": "markdown",
      "source": [
        "Add books to the list"
      ],
      "metadata": {
        "id": "xS4svR5X4YjF"
      }
    },
    {
      "cell_type": "code",
      "source": [
        "books.append(\"Machine Learning with Python\")\n",
        "books.insert(1, \"Fluent Python\")\n"
      ],
      "metadata": {
        "id": "RiWI1ER14Pd-"
      },
      "execution_count": 3,
      "outputs": []
    },
    {
      "cell_type": "markdown",
      "source": [
        "Print books with indices using a loop"
      ],
      "metadata": {
        "id": "Ekw9g87w5Qgf"
      }
    },
    {
      "cell_type": "code",
      "source": [
        "for i in range(len(books)):\n",
        "    print(f\"{i}: {books[i]}\")\n"
      ],
      "metadata": {
        "id": "F7XgcPYC5OjW",
        "outputId": "c72a7c32-4420-4dfd-9ebc-ca817681550d",
        "colab": {
          "base_uri": "https://localhost:8080/"
        }
      },
      "execution_count": 4,
      "outputs": [
        {
          "output_type": "stream",
          "name": "stdout",
          "text": [
            "0: Python Basics\n",
            "1: Fluent Python\n",
            "2: Advanced Python\n",
            "3: Data Science with Python\n",
            "4: Machine Learning with Python\n",
            "5: Machine Learning with Python\n"
          ]
        }
      ]
    },
    {
      "cell_type": "markdown",
      "source": [
        "Function to check book availability"
      ],
      "metadata": {
        "id": "49sQWqp-5Zxt"
      }
    },
    {
      "cell_type": "code",
      "source": [
        "def check_availability(book_name):\n",
        "    if book_name in books:\n",
        "        return f\"'{book_name}' is available in the library.\"\n",
        "    else:\n",
        "        return f\"'{book_name}' is not available.\"\n"
      ],
      "metadata": {
        "id": "GVwJ9-rZ5ccG"
      },
      "execution_count": 5,
      "outputs": []
    },
    {
      "cell_type": "markdown",
      "source": [
        "Testing:"
      ],
      "metadata": {
        "id": "tM6NLhMM9bOD"
      }
    },
    {
      "cell_type": "code",
      "source": [
        "print(check_availability(\"Python Basics\"))\n",
        "print(check_availability(\"Nonexistent Book\"))"
      ],
      "metadata": {
        "id": "PdfJAwyh9eRv",
        "outputId": "feb8bcae-6a71-47db-e0e4-712fe80f8acf",
        "colab": {
          "base_uri": "https://localhost:8080/"
        }
      },
      "execution_count": 9,
      "outputs": [
        {
          "output_type": "stream",
          "name": "stdout",
          "text": [
            "'Python Basics' is available in the library.\n",
            "'Nonexistent Book' is not available.\n"
          ]
        }
      ]
    },
    {
      "cell_type": "markdown",
      "source": [
        "Function to read books from a file"
      ],
      "metadata": {
        "id": "k25z8vsS5sRT"
      }
    },
    {
      "cell_type": "code",
      "source": [
        "def read_books_from_file(filename):\n",
        "    try:\n",
        "        with open(filename, 'r') as file:\n",
        "            lines = file.readlines()\n",
        "            if not lines:\n",
        "                return \"File is empty.\"\n",
        "            return [line.strip() for line in lines]\n",
        "    except FileNotFoundError:\n",
        "        return \"File not found. Please check the file path.\"\n",
        "    except Exception as e:\n",
        "        return f\"An unexpected error occurred: {e}\"\n",
        ""
      ],
      "metadata": {
        "id": "ouxv0_Xp5uFh"
      },
      "execution_count": 15,
      "outputs": []
    },
    {
      "cell_type": "markdown",
      "source": [
        "Testing:"
      ],
      "metadata": {
        "id": "1_TN8YBo9yLq"
      }
    },
    {
      "cell_type": "code",
      "source": [
        "# First, create a test file\n",
        "with open(\"test_books.txt\", \"w\") as f:\n",
        "    f.write(\"Book A\\nBook B\\nBook C\\n\")\n",
        "\n",
        "# Now test the function\n",
        "print(read_books_from_file(\"test_books.txt\"))\n"
      ],
      "metadata": {
        "id": "OZFZalTD90jV",
        "outputId": "d0d28757-2b91-436a-c608-b6055c403689",
        "colab": {
          "base_uri": "https://localhost:8080/"
        }
      },
      "execution_count": 10,
      "outputs": [
        {
          "output_type": "stream",
          "name": "stdout",
          "text": [
            "['Book A', 'Book B', 'Book C']\n"
          ]
        }
      ]
    },
    {
      "cell_type": "markdown",
      "source": [
        "Load books using Pickle"
      ],
      "metadata": {
        "id": "B-9QEnem57on"
      }
    },
    {
      "cell_type": "code",
      "source": [
        "def load_books_with_pickle(filename):\n",
        "    try:\n",
        "        with open(filename, 'rb') as file:\n",
        "            return pickle.load(file)\n",
        "    except FileNotFoundError:\n",
        "        return \"Pickle file not found.\"\n",
        "    except pickle.UnpicklingError:\n",
        "        return \"File exists but is not a valid pickle file.\"\n",
        "    except Exception as e:\n",
        "        return f\"Unexpected error while loading pickle: {e}\""
      ],
      "metadata": {
        "id": "vNTFoMZe581Z"
      },
      "execution_count": 16,
      "outputs": []
    },
    {
      "cell_type": "markdown",
      "source": [
        "Testing:"
      ],
      "metadata": {
        "id": "APUtXsHw9-T7"
      }
    },
    {
      "cell_type": "code",
      "source": [
        "# Save a sample list first\n",
        "sample_books = [\"Book X\", \"Book Y\"]\n",
        "with open(\"books.pkl\", \"wb\") as f:\n",
        "    pickle.dump(sample_books, f)\n",
        "\n",
        "# Now test loading\n",
        "print(load_books_with_pickle(\"books.pkl\"))\n"
      ],
      "metadata": {
        "id": "kqOpru0w-E2W",
        "outputId": "c2b157e1-a35c-43a2-bae1-15d74d6f3b69",
        "colab": {
          "base_uri": "https://localhost:8080/"
        }
      },
      "execution_count": 11,
      "outputs": [
        {
          "output_type": "stream",
          "name": "stdout",
          "text": [
            "['Book X', 'Book Y']\n"
          ]
        }
      ]
    },
    {
      "cell_type": "markdown",
      "source": [
        "Add books to SQLite database"
      ],
      "metadata": {
        "id": "UV-gDUyn6CWh"
      }
    },
    {
      "cell_type": "code",
      "source": [
        "def add_book_to_db(title):\n",
        "    try:\n",
        "        conn = sqlite3.connect(\"library.db\")\n",
        "        cursor = conn.cursor()\n",
        "        cursor.execute(\"CREATE TABLE IF NOT EXISTS books (title TEXT)\")\n",
        "        cursor.execute(\"INSERT INTO books (title) VALUES (?)\", (title,))\n",
        "        conn.commit()\n",
        "        conn.close()\n",
        "        return f\"'{title}' added to database.\"\n",
        "    except sqlite3.Error as e:\n",
        "        return f\"Database error: {e}\""
      ],
      "metadata": {
        "id": "ipzabwZ96DHH"
      },
      "execution_count": 8,
      "outputs": []
    },
    {
      "cell_type": "markdown",
      "source": [
        "Testing:"
      ],
      "metadata": {
        "id": "JpMSJsLl-o-0"
      }
    },
    {
      "cell_type": "code",
      "source": [
        "print(add_book_to_db(\"AI for Beginners\"))\n",
        "\n",
        "# To check if it was added:\n",
        "conn = sqlite3.connect(\"library.db\")\n",
        "cursor = conn.cursor()\n",
        "cursor.execute(\"SELECT * FROM books\")\n",
        "print(cursor.fetchall())\n",
        "conn.close()"
      ],
      "metadata": {
        "id": "E9_2DLZ--rPz",
        "outputId": "88c8755b-38df-4e18-f1e2-336057e451fd",
        "colab": {
          "base_uri": "https://localhost:8080/"
        }
      },
      "execution_count": 12,
      "outputs": [
        {
          "output_type": "stream",
          "name": "stdout",
          "text": [
            "'AI for Beginners' added to database.\n",
            "[(1, 'AI for Beginners', None)]\n"
          ]
        }
      ]
    },
    {
      "cell_type": "markdown",
      "source": [
        "Removing Books from the Library"
      ],
      "metadata": {
        "id": "MTecMgjNCQKc"
      }
    },
    {
      "cell_type": "code",
      "source": [
        "def remove_book(book_name):\n",
        "    if book_name in books:\n",
        "        books.remove(book_name)\n",
        "        print(f\"'{book_name}' has been removed.\")\n",
        "    else:\n",
        "        print(f\"'{book_name}' not found in the library.\")\n"
      ],
      "metadata": {
        "id": "fohyiikiCWbo"
      },
      "execution_count": 17,
      "outputs": []
    }
  ]
}