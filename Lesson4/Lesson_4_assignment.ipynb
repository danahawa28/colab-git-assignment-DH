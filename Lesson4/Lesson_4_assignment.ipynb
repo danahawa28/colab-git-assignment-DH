{
  "nbformat": 4,
  "nbformat_minor": 0,
  "metadata": {
    "colab": {
      "provenance": [],
      "include_colab_link": true
    },
    "kernelspec": {
      "name": "python3",
      "display_name": "Python 3"
    },
    "language_info": {
      "name": "python"
    }
  },
  "cells": [
    {
      "cell_type": "markdown",
      "metadata": {
        "id": "view-in-github",
        "colab_type": "text"
      },
      "source": [
        "<a href=\"https://colab.research.google.com/github/danahawa28/colab-git-assignment-DH/blob/main/Lesson4/Lesson_4_assignment.ipynb\" target=\"_parent\"><img src=\"https://colab.research.google.com/assets/colab-badge.svg\" alt=\"Open In Colab\"/></a>"
      ]
    },
    {
      "cell_type": "markdown",
      "source": [
        "# **Lesson 4 Assignment**\n",
        "### **Data Processing - Python Development and Pandas**\n",
        "\n",
        "**Copy each task (including'Your code here:') to a different cell and complete the codes for each task. Add  your own comments where necessary**\n",
        "\n",
        "Remember to push your changes to github and submit a PDF copy of your completed notebook with the outputs."
      ],
      "metadata": {
        "id": "LvYjstl7xAOB"
      }
    },
    {
      "cell_type": "code",
      "execution_count": null,
      "metadata": {
        "id": "RrCOCiZDw16j"
      },
      "outputs": [],
      "source": [
        "# Python and Pandas Assessment Notebook\n",
        "\n",
        "import pandas as pd\n",
        "import numpy as np\n",
        "from functools import reduce\n",
        "\n",
        "# Task 1: Create a DataFrame using Pandas\n",
        "# Create a DataFrame with the following data:\n",
        "# Name: Alice, Bob, Charlie, David\n",
        "# Age: 25, 30, 35, 28\n",
        "# City: New York, San Francisco, Los Angeles, Chicago\n",
        "\n",
        "# Your code here:\n",
        "\n",
        "\n",
        "# Task 2: Row and Column Manipulation\n",
        "# Drop the 'City' column from the DataFrame created in Task 1\n",
        "\n",
        "# Your code here:\n",
        "\n",
        "\n",
        "# Task 3: Handling Null Values\n",
        "# Create a new DataFrame with some null values and fill them\n",
        "\n",
        "# Your code here:\n",
        "\n",
        "\n",
        "# Task 4: GroupBy and Describe\n",
        "# Using the following DataFrame, group by 'Category' and describe the 'Value' column\n",
        "\n",
        "df_group = pd.DataFrame({\n",
        "    'Category': ['A', 'B', 'A', 'B', 'A', 'C'],\n",
        "    'Value': [10, 20, 15, 25, 30, 35]\n",
        "})\n",
        "\n",
        "# Your code here:\n",
        "\n",
        "\n",
        "# Task 5: Concatenation and Merging\n",
        "# Concatenate two DataFrames vertically and merge them horizontally\n",
        "\n",
        "df1 = pd.DataFrame({'A': [1, 2], 'B': [3, 4]})\n",
        "df2 = pd.DataFrame({'A': [5, 6], 'B': [7, 8]})\n",
        "df3 = pd.DataFrame({'C': [9, 10], 'D': [11, 12]})\n",
        "\n",
        "# Your code here:\n",
        "\n",
        "\n",
        "# Task 6: Tuples and Sets\n",
        "# Create a tuple of fruits and a set of numbers.\n",
        "# Then, try to add an element to each and observe the difference.\n",
        "\n",
        "# Your code here:\n",
        "\n",
        "\n",
        "# Task 7: Dictionaries\n",
        "# Create a dictionary of student names and their scores.\n",
        "# Then, update a student's score and add a new student.\n",
        "\n",
        "# Your code here:\n",
        "\n",
        "\n",
        "# Task 8: Functions and Lambda\n",
        "# Create a function to calculate the square of a number.\n",
        "# Then, use a lambda function to do the same.\n",
        "\n",
        "# Your code here:\n",
        "\n",
        "\n",
        "# Task 9: Iterators and Generators\n",
        "# Create an iterator for the first 5 even numbers.\n",
        "# Then, create a generator for the same.\n",
        "\n",
        "# Your code here:\n",
        "\n",
        "\n",
        "# Task 10: Map, Reduce, and Filter\n",
        "# Use map to square all numbers in a list.\n",
        "# Use reduce to find the product of all numbers in a list.\n",
        "# Use filter to get only even numbers from a list.\n",
        "\n",
        "numbers = [1, 2, 3, 4, 5]\n",
        "\n",
        "# Your code here:\n",
        "\n",
        "\n",
        "# Task 11: Object-Oriented Programming - Creating a Class\n",
        "# Create a class called 'Rectangle' with attributes 'length' and 'width'.\n",
        "# Include methods to calculate area and perimeter.\n",
        "\n",
        "# Your code here:\n",
        "\n",
        "\n",
        "# Task 12: Pandas Data Analysis\n",
        "# Using the following DataFrame, perform these tasks:\n",
        "# 1. Find the average salary by department\n",
        "# 2. Get the names of employees with salary > 60000\n",
        "# 3. Add a new column 'Bonus' which is 10% of salary\n",
        "\n",
        "df_employees = pd.DataFrame({\n",
        "    'Name': ['John', 'Jane', 'Bob', 'Alice', 'Charlie'],\n",
        "    'Department': ['IT', 'HR', 'IT', 'Finance', 'HR'],\n",
        "    'Salary': [55000, 65000, 70000, 60000, 58000]\n",
        "})\n",
        "\n",
        "# Your code here:"
      ]
    },
    {
      "cell_type": "code",
      "source": [
        "import pandas as pd\n",
        "import numpy as np\n",
        "from functools import reduce\n",
        "\n",
        "# Create a DataFrame\n",
        "data = {\n",
        "    'Name': ['Alice', 'Bob', 'Charlie'],\n",
        "    'Age': [25, 30, 35],\n",
        "    'City': ['New York', 'Toronto', 'London']\n",
        "}\n",
        "df = pd.DataFrame(data)\n",
        "print(\"Original DataFrame:\\n\", df)"
      ],
      "metadata": {
        "id": "zdm72mteMMKx",
        "outputId": "3cd17700-d541-4c0c-d3b1-e7afaf94b0af",
        "colab": {
          "base_uri": "https://localhost:8080/"
        }
      },
      "execution_count": 2,
      "outputs": [
        {
          "output_type": "stream",
          "name": "stdout",
          "text": [
            "Original DataFrame:\n",
            "       Name  Age      City\n",
            "0    Alice   25  New York\n",
            "1      Bob   30   Toronto\n",
            "2  Charlie   35    London\n"
          ]
        }
      ]
    },
    {
      "cell_type": "code",
      "source": [
        "#  Row and Column Manipulation\n",
        "df_no_city = df.drop(columns=['City'])\n",
        "print(\"\\nAfter dropping 'City' column:\\n\", df_no_city)"
      ],
      "metadata": {
        "id": "yi9J1CTTMkDG",
        "outputId": "9cdd57fa-0fa5-43e5-c3e8-32d2bafb0c3c",
        "colab": {
          "base_uri": "https://localhost:8080/"
        }
      },
      "execution_count": 3,
      "outputs": [
        {
          "output_type": "stream",
          "name": "stdout",
          "text": [
            "\n",
            "After dropping 'City' column:\n",
            "       Name  Age\n",
            "0    Alice   25\n",
            "1      Bob   30\n",
            "2  Charlie   35\n"
          ]
        }
      ]
    },
    {
      "cell_type": "code",
      "source": [
        "# Handling Null Values\n",
        "df_nulls = pd.DataFrame({\n",
        "    'A': [1, np.nan, 3],\n",
        "    'B': [np.nan, 5, 6],\n",
        "    'C': [7, 8, np.nan]\n",
        "})\n",
        "print(\"\\nDataFrame with Nulls:\\n\", df_nulls)\n",
        "\n",
        "# Fill numeric columns with 0\n",
        "df_filled = df_nulls.fillna(0)\n",
        "print(\"\\nNulls filled with 0:\\n\", df_filled)"
      ],
      "metadata": {
        "id": "HzCiSNhxMz02",
        "outputId": "2aea79f1-7aea-4b70-c772-fc19b622f11a",
        "colab": {
          "base_uri": "https://localhost:8080/"
        }
      },
      "execution_count": 4,
      "outputs": [
        {
          "output_type": "stream",
          "name": "stdout",
          "text": [
            "\n",
            "DataFrame with Nulls:\n",
            "      A    B    C\n",
            "0  1.0  NaN  7.0\n",
            "1  NaN  5.0  8.0\n",
            "2  3.0  6.0  NaN\n",
            "\n",
            "Nulls filled with 0:\n",
            "      A    B    C\n",
            "0  1.0  0.0  7.0\n",
            "1  0.0  5.0  8.0\n",
            "2  3.0  6.0  0.0\n"
          ]
        }
      ]
    },
    {
      "cell_type": "code",
      "source": [
        "# GroupBy and Describe ---\n",
        "df_group = pd.DataFrame({\n",
        "    'Category': ['A', 'B', 'A', 'B', 'C'],\n",
        "    'Value': [10, 20, 15, 25, 5]\n",
        "})\n",
        "grouped = df_group.groupby('Category')['Value'].describe()\n",
        "print(\"\\nGrouped statistics by Category:\\n\", grouped)"
      ],
      "metadata": {
        "id": "FYskUI2kM-Xe",
        "outputId": "e69cb1c6-0b34-4bb9-eede-e42a26c96860",
        "colab": {
          "base_uri": "https://localhost:8080/"
        }
      },
      "execution_count": 5,
      "outputs": [
        {
          "output_type": "stream",
          "name": "stdout",
          "text": [
            "\n",
            "Grouped statistics by Category:\n",
            "           count  mean       std   min    25%   50%    75%   max\n",
            "Category                                                       \n",
            "A           2.0  12.5  3.535534  10.0  11.25  12.5  13.75  15.0\n",
            "B           2.0  22.5  3.535534  20.0  21.25  22.5  23.75  25.0\n",
            "C           1.0   5.0       NaN   5.0   5.00   5.0   5.00   5.0\n"
          ]
        }
      ]
    },
    {
      "cell_type": "code",
      "source": [
        "# Concatenation and Merging\n",
        "df1 = pd.DataFrame({'ID': [1, 2], 'Score': [80, 90]})\n",
        "df2 = pd.DataFrame({'ID': [3, 4], 'Score': [85, 95]})\n",
        "df3 = pd.DataFrame({'ID': [1, 2, 3, 4], 'Grade': ['A', 'B', 'A-', 'B+']})\n",
        "concatenated = pd.concat([df1, df2], ignore_index=True)\n",
        "merged = pd.merge(concatenated, df3, on='ID')\n",
        "print(\"\\nConcatenated and Merged DataFrame:\\n\", merged)"
      ],
      "metadata": {
        "id": "0xSuJv7JNDlx",
        "outputId": "385cfe81-d187-4199-bc80-f321ff62ac2d",
        "colab": {
          "base_uri": "https://localhost:8080/"
        }
      },
      "execution_count": 7,
      "outputs": [
        {
          "output_type": "stream",
          "name": "stdout",
          "text": [
            "\n",
            "Concatenated and Merged DataFrame:\n",
            "    ID  Score Grade\n",
            "0   1     80     A\n",
            "1   2     90     B\n",
            "2   3     85    A-\n",
            "3   4     95    B+\n"
          ]
        }
      ]
    },
    {
      "cell_type": "code",
      "source": [
        "#Tuples and Sets\n",
        "fruits = ('apple', 'banana', 'cherry')\n",
        "numbers = {1, 2, 3, 4, 5}\n",
        "print(\"\\nTuple:\", fruits)\n",
        "print(\"Set before adding:\", numbers)\n",
        "# Attempt to add\n",
        "numbers.add(6)\n",
        "print(\"Set after adding 6:\", numbers)\n",
        "\n",
        "try:\n",
        "    fruits += ('mango',)  # creates a new tuple, not modifying the original\n",
        "except TypeError as e:\n",
        "    print(\"Error adding to tuple:\", e)\n",
        "\n",
        "print(\"Explanation: Tuples are immutable; Sets are mutable and allow adding.\")"
      ],
      "metadata": {
        "id": "52_6xDYxNMzi",
        "outputId": "36d368c3-9ae5-4146-c43e-7c4b7fafac47",
        "colab": {
          "base_uri": "https://localhost:8080/"
        }
      },
      "execution_count": 8,
      "outputs": [
        {
          "output_type": "stream",
          "name": "stdout",
          "text": [
            "\n",
            "Tuple: ('apple', 'banana', 'cherry')\n",
            "Set before adding: {1, 2, 3, 4, 5}\n",
            "Set after adding 6: {1, 2, 3, 4, 5, 6}\n",
            "Explanation: Tuples are immutable; Sets are mutable and allow adding.\n"
          ]
        }
      ]
    },
    {
      "cell_type": "code",
      "source": [
        "# Dictionaries ---\n",
        "students = {'Alice': 85, 'Bob': 90, 'Charlie': 88}\n",
        "students['Bob'] = 95  # update\n",
        "students['David'] = 78  # add\n",
        "print(\"\\nUpdated Dictionary:\", students)"
      ],
      "metadata": {
        "id": "siav4bq3Ne9c",
        "outputId": "becbfba7-0b6a-4c94-baec-49836a62cc11",
        "colab": {
          "base_uri": "https://localhost:8080/"
        }
      },
      "execution_count": 9,
      "outputs": [
        {
          "output_type": "stream",
          "name": "stdout",
          "text": [
            "\n",
            "Updated Dictionary: {'Alice': 85, 'Bob': 95, 'Charlie': 88, 'David': 78}\n"
          ]
        }
      ]
    },
    {
      "cell_type": "code",
      "source": [
        "#Functions and Lambda\n",
        "def square(x):\n",
        "    return x * x\n",
        "\n",
        "square_lambda = lambda x: x * x\n",
        "\n",
        "print(\"\\nSquare using function (4):\", square(4))\n",
        "print(\"Square using lambda (5):\", square_lambda(5))"
      ],
      "metadata": {
        "id": "KQyN5m76NivH",
        "outputId": "10a63451-199f-4154-f0b0-7f484ecfc3f3",
        "colab": {
          "base_uri": "https://localhost:8080/"
        }
      },
      "execution_count": 10,
      "outputs": [
        {
          "output_type": "stream",
          "name": "stdout",
          "text": [
            "\n",
            "Square using function (4): 16\n",
            "Square using lambda (5): 25\n"
          ]
        }
      ]
    },
    {
      "cell_type": "code",
      "source": [
        "# Iterators and Generators ---\n",
        "class EvenIterator:\n",
        "    def __init__(self, limit):\n",
        "        self.num = 0\n",
        "        self.limit = limit\n",
        "        self.count = 0\n",
        "\n",
        "    def __iter__(self):\n",
        "        return self\n",
        "\n",
        "    def __next__(self):\n",
        "        if self.count >= self.limit:\n",
        "            raise StopIteration\n",
        "        val = self.num\n",
        "        self.num += 2\n",
        "        self.count += 1\n",
        "        return val\n",
        "\n",
        "print(\"\\nIterator output:\")\n",
        "for num in EvenIterator(5):\n",
        "    print(num, end=\" \")\n",
        "\n",
        "def even_generator(n):\n",
        "    for i in range(n):\n",
        "        yield i * 2\n",
        "\n",
        "print(\"\\nGenerator output:\")\n",
        "for num in even_generator(5):\n",
        "    print(num, end=\" \")"
      ],
      "metadata": {
        "id": "FZcGj-m0Nz1z",
        "outputId": "5f76fcfa-a793-4fbb-80ef-553fe78ae687",
        "colab": {
          "base_uri": "https://localhost:8080/"
        }
      },
      "execution_count": 11,
      "outputs": [
        {
          "output_type": "stream",
          "name": "stdout",
          "text": [
            "\n",
            "Iterator output:\n",
            "0 2 4 6 8 \n",
            "Generator output:\n",
            "0 2 4 6 8 "
          ]
        }
      ]
    },
    {
      "cell_type": "code",
      "source": [
        "# Map, Reduce, Filter ---\n",
        "numbers = [1, 2, 3, 4, 5]\n",
        "\n",
        "squared = list(map(lambda x: x**2, numbers))\n",
        "product = reduce(lambda x, y: x * y, numbers)\n",
        "evens = list(filter(lambda x: x % 2 == 0, numbers))\n",
        "\n",
        "print(\"\\n\\nSquared (map):\", squared)\n",
        "print(\"Product (reduce):\", product)\n",
        "print(\"Even numbers (filter):\", evens)\n"
      ],
      "metadata": {
        "id": "FVSO_9q8OFYr",
        "outputId": "2afc9e04-71ed-4bc0-8f6e-baf2c4d9f291",
        "colab": {
          "base_uri": "https://localhost:8080/"
        }
      },
      "execution_count": 12,
      "outputs": [
        {
          "output_type": "stream",
          "name": "stdout",
          "text": [
            "\n",
            "\n",
            "Squared (map): [1, 4, 9, 16, 25]\n",
            "Product (reduce): 120\n",
            "Even numbers (filter): [2, 4]\n"
          ]
        }
      ]
    },
    {
      "cell_type": "code",
      "source": [
        "#Object-Oriented Programming\n",
        "class Rectangle:\n",
        "    def __init__(self, length, width):\n",
        "        self.length = length\n",
        "        self.width = width\n",
        "\n",
        "    def area(self):\n",
        "        return self.length * self.width\n",
        "\n",
        "    def perimeter(self):\n",
        "        return 2 * (self.length + self.width)\n",
        "\n",
        "r1 = Rectangle(5, 3)\n",
        "r2 = Rectangle(10, 2)\n",
        "\n",
        "print(\"\\nRectangle 1 - Area:\", r1.area(), \", Perimeter:\", r1.perimeter())\n",
        "print(\"Rectangle 2 - Area:\", r2.area(), \", Perimeter:\", r2.perimeter())"
      ],
      "metadata": {
        "id": "nn9A5B8gOLUO",
        "outputId": "230c2034-7b54-4944-dbf1-b3d36e0a3fec",
        "colab": {
          "base_uri": "https://localhost:8080/"
        }
      },
      "execution_count": 13,
      "outputs": [
        {
          "output_type": "stream",
          "name": "stdout",
          "text": [
            "\n",
            "Rectangle 1 - Area: 15 , Perimeter: 16\n",
            "Rectangle 2 - Area: 20 , Perimeter: 24\n"
          ]
        }
      ]
    },
    {
      "cell_type": "code",
      "source": [
        "# Pandas Data Analysis ---\n",
        "employee_df = pd.DataFrame({\n",
        "    'Name': ['Alice', 'Bob', 'Charlie', 'David'],\n",
        "    'Department': ['HR', 'IT', 'IT', 'HR'],\n",
        "    'Salary': [55000, 70000, 65000, 48000]\n",
        "})\n",
        "\n",
        "# Average salary by department\n",
        "avg_salary = employee_df.groupby('Department')['Salary'].mean()\n",
        "print(\"\\nAverage salary by department:\\n\", avg_salary)\n",
        "\n",
        "# Employees with salary > 60000\n",
        "high_earners = employee_df[employee_df['Salary'] > 60000]['Name']\n",
        "print(\"\\nEmployees with salary > 60000:\", list(high_earners))\n",
        "\n",
        "# Add bonus column\n",
        "employee_df['Bonus'] = employee_df['Salary'] * 0.10\n",
        "print(\"\\nDataFrame with Bonus column:\\n\", employee_df)"
      ],
      "metadata": {
        "id": "JOY64N5ZOcXo",
        "outputId": "4f88ac84-e275-4617-b6c5-bfe6b5d1a2d4",
        "colab": {
          "base_uri": "https://localhost:8080/"
        }
      },
      "execution_count": 14,
      "outputs": [
        {
          "output_type": "stream",
          "name": "stdout",
          "text": [
            "\n",
            "Average salary by department:\n",
            " Department\n",
            "HR    51500.0\n",
            "IT    67500.0\n",
            "Name: Salary, dtype: float64\n",
            "\n",
            "Employees with salary > 60000: ['Bob', 'Charlie']\n",
            "\n",
            "DataFrame with Bonus column:\n",
            "       Name Department  Salary   Bonus\n",
            "0    Alice         HR   55000  5500.0\n",
            "1      Bob         IT   70000  7000.0\n",
            "2  Charlie         IT   65000  6500.0\n",
            "3    David         HR   48000  4800.0\n"
          ]
        }
      ]
    }
  ]
}